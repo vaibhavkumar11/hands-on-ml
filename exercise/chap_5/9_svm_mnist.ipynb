{
 "cells": [
  {
   "cell_type": "markdown",
   "metadata": {},
   "source": [
    "## Important Points\n",
    "\n",
    "* Used MNIST dataset ( takes around 6 hours to run RandomizedSearchCV with cv=3 and 5 iterations)\n",
    "* Training accuracy: 99.90%\n",
    "* Validation accuracy: 97%"
   ]
  },
  {
   "cell_type": "code",
   "execution_count": 1,
   "metadata": {
    "colab": {},
    "colab_type": "code",
    "executionInfo": {
     "elapsed": 1597,
     "status": "ok",
     "timestamp": 1594555679064,
     "user": {
      "displayName": "Vaibhav Kumar",
      "photoUrl": "",
      "userId": "05223202447529672339"
     },
     "user_tz": -330
    },
    "id": "-ZaVRnLoAznJ"
   },
   "outputs": [],
   "source": [
    "import pandas as pd \n",
    "import numpy as np\n",
    "import os\n",
    "import matplotlib.pyplot as plt\n",
    "from sklearn.metrics import accuracy_score\n",
    "\n",
    "np.random.seed(42)\n",
    "%matplotlib inline"
   ]
  },
  {
   "cell_type": "code",
   "execution_count": 2,
   "metadata": {
    "colab": {},
    "colab_type": "code",
    "executionInfo": {
     "elapsed": 22494,
     "status": "ok",
     "timestamp": 1594555699975,
     "user": {
      "displayName": "Vaibhav Kumar",
      "photoUrl": "",
      "userId": "05223202447529672339"
     },
     "user_tz": -330
    },
    "id": "D5NigB4ZAznT"
   },
   "outputs": [],
   "source": [
    "from sklearn.datasets import fetch_openml\n",
    "data = fetch_openml('mnist_784', version=1, cache=True)\n",
    "\n",
    "x = data.data \n",
    "y = data.target"
   ]
  },
  {
   "cell_type": "code",
   "execution_count": 3,
   "metadata": {
    "colab": {},
    "colab_type": "code",
    "executionInfo": {
     "elapsed": 22486,
     "status": "ok",
     "timestamp": 1594555699977,
     "user": {
      "displayName": "Vaibhav Kumar",
      "photoUrl": "",
      "userId": "05223202447529672339"
     },
     "user_tz": -330
    },
    "id": "U-3ByZuuAznc"
   },
   "outputs": [],
   "source": [
    "rand_ind = np.random.permutation(x.shape[0])\n",
    "\n",
    "x_train = x[:60000]\n",
    "y_train = y[:60000]\n",
    "\n",
    "x_valid = x[60000:]\n",
    "y_valid = y[60000:]"
   ]
  },
  {
   "cell_type": "code",
   "execution_count": 4,
   "metadata": {
    "colab": {},
    "colab_type": "code",
    "executionInfo": {
     "elapsed": 16246,
     "status": "ok",
     "timestamp": 1594555701397,
     "user": {
      "displayName": "Vaibhav Kumar",
      "photoUrl": "",
      "userId": "05223202447529672339"
     },
     "user_tz": -330
    },
    "id": "MuH754cHAzni"
   },
   "outputs": [],
   "source": [
    "from sklearn.preprocessing import StandardScaler\n",
    "\n",
    "scaler = StandardScaler()\n",
    "scaler.fit(x_train)\n",
    "\n",
    "x_train = scaler.transform(x_train)\n",
    "x_valid = scaler.transform(x_valid)"
   ]
  },
  {
   "cell_type": "code",
   "execution_count": 5,
   "metadata": {
    "colab": {},
    "colab_type": "code",
    "executionInfo": {
     "elapsed": 14760,
     "status": "ok",
     "timestamp": 1594555701398,
     "user": {
      "displayName": "Vaibhav Kumar",
      "photoUrl": "",
      "userId": "05223202447529672339"
     },
     "user_tz": -330
    },
    "id": "AaSx3rRyAzno"
   },
   "outputs": [],
   "source": [
    "def score(y_true, y_pred, train=False):\n",
    "    accuracy = accuracy_score(y_true, y_pred) \n",
    "    if train:\n",
    "        print(\"Train accuracy:{}\".format(accuracy))\n",
    "    else:\n",
    "        print(\"Val accuracy:{}\".format(accuracy))"
   ]
  },
  {
   "cell_type": "code",
   "execution_count": null,
   "metadata": {
    "colab": {},
    "colab_type": "code",
    "id": "daBOXpOPAznu"
   },
   "outputs": [],
   "source": [
    "from sklearn.svm import LinearSVC\n",
    "# LinearSVC by default uses OVR\n",
    "lin_clf = LinearSVC(loss='hinge', random_state=42)"
   ]
  },
  {
   "cell_type": "code",
   "execution_count": null,
   "metadata": {
    "colab": {},
    "colab_type": "code",
    "id": "_km5siuEAznz"
   },
   "outputs": [],
   "source": [
    "lin_clf.fit(x_train, y_train)\n",
    "\n",
    "y_pred = lin_clf.predict(x_valid)\n",
    "score(y_valid, y_pred)\n",
    "\n",
    "score(y_train, lin_clf.predict(x_train), True)"
   ]
  },
  {
   "cell_type": "code",
   "execution_count": 6,
   "metadata": {
    "colab": {},
    "colab_type": "code",
    "executionInfo": {
     "elapsed": 11908,
     "status": "ok",
     "timestamp": 1594555701399,
     "user": {
      "displayName": "Vaibhav Kumar",
      "photoUrl": "",
      "userId": "05223202447529672339"
     },
     "user_tz": -330
    },
    "id": "Ge6tJRZzAzn6"
   },
   "outputs": [],
   "source": [
    "from sklearn.svm import SVC\n",
    "\n",
    "svc = SVC(random_state=42, kernel='rbf')"
   ]
  },
  {
   "cell_type": "code",
   "execution_count": null,
   "metadata": {
    "colab": {},
    "colab_type": "code",
    "id": "ngbQHQGRAzn-"
   },
   "outputs": [],
   "source": [
    "svc.fit(x_train, y_train)\n",
    "\n",
    "score(y_train, svc.predict(x_train), True)\n",
    "score(y_valid, svc.predict(x_valid))"
   ]
  },
  {
   "cell_type": "code",
   "execution_count": 7,
   "metadata": {
    "colab": {
     "base_uri": "https://localhost:8080/",
     "height": 52
    },
    "colab_type": "code",
    "id": "rgimhPinNaZT",
    "outputId": "fcbecea9-8436-4871-fdb3-883f3faf769f"
   },
   "outputs": [
    {
     "name": "stdout",
     "output_type": "stream",
     "text": [
      "Fitting 3 folds for each of 5 candidates, totalling 15 fits\n"
     ]
    },
    {
     "name": "stderr",
     "output_type": "stream",
     "text": [
      "[Parallel(n_jobs=-1)]: Using backend LokyBackend with 8 concurrent workers.\n",
      "[Parallel(n_jobs=-1)]: Done  15 out of  15 | elapsed: 132.6min finished\n"
     ]
    },
    {
     "data": {
      "text/plain": [
       "RandomizedSearchCV(cv=3, estimator=SVC(), n_iter=5, n_jobs=-1,\n",
       "                   param_distributions={'C': <scipy.stats._distn_infrastructure.rv_frozen object at 0x7f845a0bba60>,\n",
       "                                        'gamma': <scipy.stats._distn_infrastructure.rv_frozen object at 0x7f845a0bb700>},\n",
       "                   verbose=1)"
      ]
     },
     "execution_count": 7,
     "metadata": {},
     "output_type": "execute_result"
    }
   ],
   "source": [
    "%timeit\n",
    "from sklearn.model_selection import RandomizedSearchCV\n",
    "from scipy.stats import reciprocal, uniform\n",
    "\n",
    "params = {\"gamma\": reciprocal(0.001, 0.1), \"C\": uniform(1, 10)}\n",
    "rand_search = RandomizedSearchCV(SVC(), params, \n",
    "                                 n_iter = 5, verbose=1, cv=3, n_jobs=-1)\n",
    "rand_search.fit(x_train, y_train)"
   ]
  },
  {
   "cell_type": "code",
   "execution_count": 8,
   "metadata": {
    "colab": {},
    "colab_type": "code",
    "id": "VB1IvXKqAzoH"
   },
   "outputs": [
    {
     "data": {
      "text/plain": [
       "SVC(C=6.630025243684105, gamma=0.0015915925174727911)"
      ]
     },
     "execution_count": 8,
     "metadata": {},
     "output_type": "execute_result"
    }
   ],
   "source": [
    "rand_search.best_estimator_"
   ]
  },
  {
   "cell_type": "code",
   "execution_count": 9,
   "metadata": {
    "colab": {},
    "colab_type": "code",
    "id": "SFlirYNOAzoN"
   },
   "outputs": [
    {
     "name": "stdout",
     "output_type": "stream",
     "text": [
      "Train accuracy:0.9990666666666667\n"
     ]
    }
   ],
   "source": [
    "y_pred = rand_search.best_estimator_.predict(x_train)\n",
    "score(y_train, y_pred, True)"
   ]
  },
  {
   "cell_type": "code",
   "execution_count": null,
   "metadata": {
    "colab": {},
    "colab_type": "code",
    "id": "DVTlZ5wkAzoR"
   },
   "outputs": [],
   "source": [
    "y_pred = rand_search.best_estimator_.predict(x_valid)\n",
    "score(y_valid, y_pred)"
   ]
  }
 ],
 "metadata": {
  "colab": {
   "name": "9_svm_mnist.ipynb",
   "provenance": []
  },
  "kernelspec": {
   "display_name": "Python 3",
   "language": "python",
   "name": "python3"
  },
  "language_info": {
   "codemirror_mode": {
    "name": "ipython",
    "version": 3
   },
   "file_extension": ".py",
   "mimetype": "text/x-python",
   "name": "python",
   "nbconvert_exporter": "python",
   "pygments_lexer": "ipython3",
   "version": "3.7.6"
  }
 },
 "nbformat": 4,
 "nbformat_minor": 4
}
