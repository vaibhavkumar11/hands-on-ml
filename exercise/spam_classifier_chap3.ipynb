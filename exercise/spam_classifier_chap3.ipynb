{
 "cells": [
  {
   "cell_type": "code",
   "execution_count": 9,
   "metadata": {},
   "outputs": [],
   "source": [
    "import tarfile\n",
    "import os\n",
    "from pathlib import Path"
   ]
  },
  {
   "cell_type": "markdown",
   "metadata": {},
   "source": [
    "### Step 1: Downloading the Dataset -> Done"
   ]
  },
  {
   "cell_type": "markdown",
   "metadata": {},
   "source": [
    "### Step 2: EDA"
   ]
  },
  {
   "cell_type": "code",
   "execution_count": 6,
   "metadata": {},
   "outputs": [],
   "source": [
    "spam_data_path = Path(\"./data/20030228_spam.tar.bz2\")\n",
    "ham_data_path = Path(\"./data/20030228_easy_ham.tar.bz2\")"
   ]
  },
  {
   "cell_type": "code",
   "execution_count": 14,
   "metadata": {},
   "outputs": [],
   "source": [
    "# Decompression \n",
    "for path in [spam_data_path, ham_data_path]:\n",
    "    tar_obj = tarfile.open(path)\n",
    "    tar_obj.extractall(path=\"data/\")\n",
    "    tar_obj.close()"
   ]
  },
  {
   "cell_type": "code",
   "execution_count": 16,
   "metadata": {},
   "outputs": [
    {
     "data": {
      "text/plain": [
       "['spam', '20030228_spam.tar.bz2', '20030228_easy_ham.tar.bz2', 'easy_ham']"
      ]
     },
     "execution_count": 16,
     "metadata": {},
     "output_type": "execute_result"
    }
   ],
   "source": [
    "# Data has been decompressed\n",
    "os.listdir(\"data/\")"
   ]
  },
  {
   "cell_type": "code",
   "execution_count": 18,
   "metadata": {},
   "outputs": [],
   "source": [
    "# Path for decompressed data\n",
    "spam_path = Path(\"./data/spam/\")\n",
    "ham_path = Path(\"./data/easy_ham/\")"
   ]
  },
  {
   "cell_type": "code",
   "execution_count": 45,
   "metadata": {},
   "outputs": [],
   "source": [
    "# List of all spam and ham files\n",
    "spam_files = [spam_path/file for file in os.listdir(spam_path)  if file != 'cmds']\n",
    "ham_files = [ham_path/file for file in os.listdir(ham_path)  if file != 'cmds']"
   ]
  },
  {
   "cell_type": "code",
   "execution_count": 46,
   "metadata": {},
   "outputs": [
    {
     "name": "stdout",
     "output_type": "stream",
     "text": [
      "[PosixPath('data/spam/00075.28a918cd03a0ef5aa2f1e0551a798108'), PosixPath('data/spam/00376.f4ed5f002f9b6b320a67f1da9cacbe72'), PosixPath('data/spam/00029.de865ad8d5ad0df985ae2f72388befba'), PosixPath('data/spam/00192.e5a6bb15ae1e965f3b823c75e435651a'), PosixPath('data/spam/00409.e59f63e813b6766a9a4ddf0790634ca3')]\n",
      "[PosixPath('data/easy_ham/01263.40cec40ea12c55f2ac9a98dc07c55d1c'), PosixPath('data/easy_ham/00238.dab1868a3b43de1e01ebdfd0e53de50f'), PosixPath('data/easy_ham/00088.945614c3f6213f59548ab21306451675'), PosixPath('data/easy_ham/02051.58e196144807bd76d7b77d4b7efb6d32'), PosixPath('data/easy_ham/01232.2f44f5a2186e97cf4d65cf191d98e646')]\n"
     ]
    }
   ],
   "source": [
    "print(spam_files[:5])\n",
    "print(ham_files[:5])"
   ]
  },
  {
   "cell_type": "code",
   "execution_count": 47,
   "metadata": {},
   "outputs": [
    {
     "data": {
      "text/plain": [
       "(500, 2500)"
      ]
     },
     "execution_count": 47,
     "metadata": {},
     "output_type": "execute_result"
    }
   ],
   "source": [
    "len(spam_files), len(ham_files)"
   ]
  },
  {
   "cell_type": "code",
   "execution_count": 48,
   "metadata": {},
   "outputs": [
    {
     "name": "stdout",
     "output_type": "stream",
     "text": [
      "From iiu-owner@taint.org  Mon Aug 26 15:48:26 2002\n",
      "Return-Path: <iiu-owner@taint.org>\n",
      "Delivered-To: zzzz@localhost.spamassassin.taint.org\n",
      "Received: from localhost (localhost [127.0.0.1])\n",
      "\tby phobos.labs.spamassassin.taint.org (Postfix) with ESMTP id 35D3247C86\n",
      "\tfor <zzzz@localhost>; Mon, 26 Aug 2002 10:41:37 -0400 (EDT)\n",
      "Received: from phobos [127.0.0.1]\n",
      "\tby localhost with IMAP (fetchmail-5.9.0)\n",
      "\tfor zzzz@localhost (single-drop); Mon, 26 Aug 2002 15:41:37 +0100 (IST)\n",
      "Received: from dogma.slashnull.org (localhost [127.0.0.1]) by\n",
      "    dogma.slashnull.org (8.11.6/8.11.6) with ESMTP id g7NIi2Z03983 for\n",
      "    <zzzz-list-admin-iiu@jmason.org>; Fri, 23 Aug 2002 19:44:02 +0100\n",
      "Received: from linux.local ([213.9.245.86]) by dogma.slashnull.org\n",
      "    (8.11.6/8.11.6) with SMTP id g7NIh1Z03950 for <iiu-admin@taint.org>;\n",
      "    Fri, 23 Aug 2002 19:43:02 +0100\n",
      "Message-Id: <200208231843.g7NIh1Z03950@dogma.slashnull.org>\n",
      "Received: (qmail 28875 invoked from network); 23 Aug 2002 18:18:58 -0000\n",
      "Received: from unknown (HELO h) (192.168.0.2) by linux.local with SMTP;\n",
      "    23 Aug 2002 18:18:58 -0000\n",
      "From: \"Sales Department\" <info@cheapsmoking.com>\n",
      "Subject: Low Price Smokes\n",
      "To: iiu-admin@taint.org\n",
      "Reply-To: info@cheapsmoking.com\n",
      "Date: Fri, 23 Aug 2002 20:24:48 +0200\n",
      "X-Priority: 3\n",
      "X-Library: Indy 8.0.25\n",
      "Sender: iiu-owner@taint.org\n",
      "Errors-To: iiu-owner@taint.org\n",
      "X-Beenthere: iiu@iiu.taint.org\n",
      "X-Mailman-Version: 2.0.10\n",
      "Precedence: bulk\n",
      "List-Unsubscribe: <http://iiu.taint.org/mailman/listinfo/iiu>,\n",
      "    <mailto:iiu-request@iiu.taint.org?subject=unsubscribe>\n",
      "List-Id: Irish Internet Users <iiu.iiu.taint.org>\n",
      "List-Post: <mailto:iiu@iiu.taint.org>\n",
      "List-Help: <mailto:iiu-request@iiu.taint.org?subject=help>\n",
      "List-Subscribe: <http://iiu.taint.org/mailman/listinfo/iiu>,\n",
      "    <mailto:iiu-request@iiu.taint.org?subject=subscribe>\n",
      "List-Archive: <http://iiu.taint.org/pipermail/iiu/>\n",
      "\n",
      "Dear Sir / Madam\n",
      "\n",
      "If you are fed up of being 'ripped off' by the British government every time you buy your tobacco, then you should visit our website, where you can now buy 4 cartons of cigarettes, or 40 pouches of rolling tobacco from as little as 170 Euros (approx 105 pounds), inclusive of delivery by registered air mail from our office in Spain.  \n",
      "\n",
      "Why pay more???\n",
      "\n",
      "Visit our website at\n",
      "http://www.cheapsmoking.com/?ID=2\n",
      "\n",
      "Best regards\n",
      "Sales Department\n",
      "Cheap Smoking\n",
      "Spain\n",
      "xay1992361y\n",
      "\n",
      "\n"
     ]
    }
   ],
   "source": [
    "# File format -> Email format\n",
    "f = open(spam_files[0])\n",
    "content = f.read()\n",
    "f.close()\n",
    "print(content)"
   ]
  },
  {
   "cell_type": "code",
   "execution_count": 49,
   "metadata": {},
   "outputs": [],
   "source": [
    "# Using python's email library as it makes parsing easy\n",
    "# https://docs.python.org/3/library/email.examples.html\n",
    "from email import policy\n",
    "from email.parser import BytesParser"
   ]
  },
  {
   "cell_type": "code",
   "execution_count": 50,
   "metadata": {},
   "outputs": [],
   "source": [
    "def email_loader(filenames):\n",
    "    parsed_email = []\n",
    "    for file in filenames:\n",
    "        with open(file, 'rb') as fp:\n",
    "            parsed_email.append(BytesParser(policy=policy.default).parse(fp))\n",
    "    return parsed_email"
   ]
  },
  {
   "cell_type": "code",
   "execution_count": 51,
   "metadata": {},
   "outputs": [],
   "source": [
    "spam_email = email_loader(spam_files)\n",
    "ham_email = email_loader(ham_files)"
   ]
  },
  {
   "cell_type": "code",
   "execution_count": 63,
   "metadata": {},
   "outputs": [
    {
     "name": "stdout",
     "output_type": "stream",
     "text": [
      "[('Return-Path', '<iiu-owner@taint.org>'), ('Delivered-To', 'zzzz@localhost.spamassassin.taint.org'), ('Received', 'from localhost (localhost [127.0.0.1])\\tby phobos.labs.spamassassin.taint.org (Postfix) with ESMTP id 35D3247C86\\tfor <zzzz@localhost>; Mon, 26 Aug 2002 10:41:37 -0400 (EDT)'), ('Received', 'from phobos [127.0.0.1]\\tby localhost with IMAP (fetchmail-5.9.0)\\tfor zzzz@localhost (single-drop); Mon, 26 Aug 2002 15:41:37 +0100 (IST)'), ('Received', 'from dogma.slashnull.org (localhost [127.0.0.1]) by    dogma.slashnull.org (8.11.6/8.11.6) with ESMTP id g7NIi2Z03983 for    <zzzz-list-admin-iiu@jmason.org>; Fri, 23 Aug 2002 19:44:02 +0100'), ('Received', 'from linux.local ([213.9.245.86]) by dogma.slashnull.org    (8.11.6/8.11.6) with SMTP id g7NIh1Z03950 for <iiu-admin@taint.org>;    Fri, 23 Aug 2002 19:43:02 +0100'), ('Message-Id', '<200208231843.g7NIh1Z03950@dogma.slashnull.org>'), ('Received', '(qmail 28875 invoked from network); 23 Aug 2002 18:18:58 -0000'), ('Received', 'from unknown (HELO h) (192.168.0.2) by linux.local with SMTP;    23 Aug 2002 18:18:58 -0000'), ('From', 'Sales Department <info@cheapsmoking.com>'), ('Subject', 'Low Price Smokes'), ('To', 'iiu-admin@taint.org'), ('Reply-To', 'info@cheapsmoking.com'), ('Date', 'Fri, 23 Aug 2002 20:24:48 +0200'), ('X-Priority', '3'), ('X-Library', 'Indy 8.0.25'), ('Sender', 'iiu-owner@taint.org'), ('Errors-To', 'iiu-owner@taint.org'), ('X-Beenthere', 'iiu@iiu.taint.org'), ('X-Mailman-Version', '2.0.10'), ('Precedence', 'bulk'), ('List-Unsubscribe', '<http://iiu.taint.org/mailman/listinfo/iiu>,    <mailto:iiu-request@iiu.taint.org?subject=unsubscribe>'), ('List-Id', 'Irish Internet Users <iiu.iiu.taint.org>'), ('List-Post', '<mailto:iiu@iiu.taint.org>'), ('List-Help', '<mailto:iiu-request@iiu.taint.org?subject=help>'), ('List-Subscribe', '<http://iiu.taint.org/mailman/listinfo/iiu>,    <mailto:iiu-request@iiu.taint.org?subject=subscribe>'), ('List-Archive', '<http://iiu.taint.org/pipermail/iiu/>')]\n",
      "Dear Sir / Madam\n",
      "\n",
      "If you are fed up of being 'ripped off' by the British government every time you buy your tobacco, then you should visit our website, where you can now buy 4 cartons of cigarettes, or 40 pouches of rolling tobacco from as little as 170 Euros (approx 105 pounds), inclusive of delivery by registered air mail from our office in Spain.  \n",
      "\n",
      "Why pay more???\n",
      "\n",
      "Visit our website at\n",
      "http://www.cheapsmoking.com/?ID=2\n",
      "\n",
      "Best regards\n",
      "Sales Department\n",
      "Cheap Smoking\n",
      "Spain\n",
      "xay1992361y\n"
     ]
    }
   ],
   "source": [
    "# Same as above, can be accessed as key value pairs\n",
    "print(spam_email[0].items())\n",
    "print(spam_email[0].get_content().strip())"
   ]
  },
  {
   "cell_type": "code",
   "execution_count": 69,
   "metadata": {},
   "outputs": [
    {
     "name": "stdout",
     "output_type": "stream",
     "text": [
      "Return-Path : <evtwqmigru@datcon.co.uk>\n",
      "Delivered-To : zzzz@localhost.spamassassin.taint.org\n",
      "Received : from localhost (jalapeno [127.0.0.1])\tby zzzzason.org (Postfix) with ESMTP id F3CF116F1B\tfor <zzzz@localhost>; Tue,  8 Oct 2002 11:02:13 +0100 (IST)\n",
      "Received : from jalapeno [127.0.0.1]\tby localhost with IMAP (fetchmail-5.9.0)\tfor zzzz@localhost (single-drop); Tue, 08 Oct 2002 11:02:13 +0100 (IST)\n",
      "Received : from webnote.net (mail.webnote.net [193.120.211.219]) by    dogma.slashnull.org (8.11.6/8.11.6) with ESMTP id g989wGK10152 for    <zzzz@jmason.org>; Tue, 8 Oct 2002 10:58:16 +0100\n",
      "Received : from sanaga.camtel.cm ([195.24.194.61]) by webnote.net    (8.9.3/8.9.3) with ESMTP id KAA21887 for <zzzz@spamassassin.taint.org>;    Tue, 8 Oct 2002 10:59:00 +0100\n",
      "Received : from ens.fr (host42-226.pool8173.interbusiness.it    [81.73.226.42]) by sanaga.camtel.cm with SMTP (Microsoft Exchange Internet    Mail Service Version 5.5.1960.3) id 431SJ0H6; Tue, 8 Oct 2002 06:55:54    -0000\n",
      "Message-Id : <00004b14417b$0000234d$000007e2@cuug.ab.ca>\n",
      "To : wciml@chez.com\n",
      "From : About Time <evtwqmigru@datcon.co.uk>\n",
      "Subject : Faeries\n",
      "Date : Wed, 07 Oct 2020 23:01:36 -1900\n",
      "MIME-Version : 1.0\n",
      "Content-Type : text/plain; charset=\"Windows-1252\"\n",
      "Content-Transfer-Encoding : 7bit\n",
      "Reply-To : evtwqmigru@datcon.co.uk\n"
     ]
    }
   ],
   "source": [
    "# Checking the headers and items for the files\n",
    "for key, val in zip(spam_email[23].keys(), spam_email[23].values()):\n",
    "    print(\"{} : {}\".format(key, val))"
   ]
  }
 ],
 "metadata": {
  "kernelspec": {
   "display_name": "Python 3",
   "language": "python",
   "name": "python3"
  },
  "language_info": {
   "codemirror_mode": {
    "name": "ipython",
    "version": 3
   },
   "file_extension": ".py",
   "mimetype": "text/x-python",
   "name": "python",
   "nbconvert_exporter": "python",
   "pygments_lexer": "ipython3",
   "version": "3.7.6"
  }
 },
 "nbformat": 4,
 "nbformat_minor": 4
}
