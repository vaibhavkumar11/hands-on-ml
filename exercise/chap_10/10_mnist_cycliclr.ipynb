{
 "cells": [
  {
   "cell_type": "code",
   "execution_count": 11,
   "metadata": {},
   "outputs": [],
   "source": [
    "import tensorflow as tf\n",
    "import numpy as np\n",
    "import matplotlib.pyplot as plt\n",
    "\n",
    "np.random.seed(42)\n",
    "tf.random.set_seed(42)\n",
    "%matplotlib inline"
   ]
  },
  {
   "cell_type": "code",
   "execution_count": 12,
   "metadata": {},
   "outputs": [],
   "source": [
    "(x_train, y_train), (x_test, y_test) = tf.keras.datasets.mnist.load_data()"
   ]
  },
  {
   "cell_type": "code",
   "execution_count": 13,
   "metadata": {},
   "outputs": [
    {
     "name": "stdout",
     "output_type": "stream",
     "text": [
      "(60000, 28, 28)\n",
      "(60000,)\n",
      "(10000, 28, 28)\n",
      "(10000,)\n"
     ]
    }
   ],
   "source": [
    "print(x_train.shape) \n",
    "print(y_train.shape)\n",
    "print(x_test.shape)\n",
    "print(y_test.shape)"
   ]
  },
  {
   "cell_type": "code",
   "execution_count": 14,
   "metadata": {},
   "outputs": [],
   "source": [
    "class ExponentialLR(tf.keras.callbacks.Callback):\n",
    "    def __init__(self, exp_rate):\n",
    "        self.rate = exp_rate\n",
    "        self.rates = []\n",
    "        self.loss = []\n",
    "    def on_batch_end(self, batch, logs):\n",
    "        self.rates.append(float(tf.keras.backend.get_value(self.model.optimizer.learning_rate)))\n",
    "        self.loss.append(logs[\"loss\"])\n",
    "        tf.keras.backend.set_value(\n",
    "            self.model.optimizer.learning_rate, self.model.optimizer.learning_rate * self.rate)"
   ]
  },
  {
   "cell_type": "code",
   "execution_count": 37,
   "metadata": {},
   "outputs": [],
   "source": [
    "model = tf.keras.models.Sequential([\n",
    "    tf.keras.layers.Flatten(input_shape=(28, 28)),\n",
    "    tf.keras.layers.Dense(300, activation=\"relu\"),\n",
    "    tf.keras.layers.Dense(100, activation=\"relu\"),\n",
    "    tf.keras.layers.Dense(10, activation=\"softmax\")\n",
    "])"
   ]
  },
  {
   "cell_type": "code",
   "execution_count": 38,
   "metadata": {},
   "outputs": [],
   "source": [
    "model.compile(loss='sparse_categorical_crossentropy',\n",
    "             optimizer=tf.keras.optimizers.Adam(),\n",
    "             metrics=['accuracy'])"
   ]
  },
  {
   "cell_type": "code",
   "execution_count": 39,
   "metadata": {},
   "outputs": [
    {
     "name": "stdout",
     "output_type": "stream",
     "text": [
      "Train on 5000 samples\n",
      "5000/5000 [==============================] - 1s 208us/sample - loss: 0.5842 - accuracy: 0.8392\n"
     ]
    }
   ],
   "source": [
    "exp_lr = ExponentialLR(1.005)\n",
    "history = model.fit(x_train[:5000] / 255., y_train[:5000],\n",
    "                   batch_size=32,\n",
    "                   callbacks=[exp_lr])"
   ]
  },
  {
   "cell_type": "code",
   "execution_count": 40,
   "metadata": {},
   "outputs": [
    {
     "data": {
      "text/plain": [
       "Text(0, 0.5, 'Loss')"
      ]
     },
     "execution_count": 40,
     "metadata": {},
     "output_type": "execute_result"
    },
    {
     "data": {
      "image/png": "[encoded data removed]",
      "text/plain": [
       "<Figure size 432x288 with 1 Axes>"
      ]
     },
     "metadata": {
      "needs_background": "light"
     },
     "output_type": "display_data"
    }
   ],
   "source": [
    "plt.plot(exp_lr.rates, exp_lr.loss)\n",
    "plt.gca().set_xscale('log')\n",
    "plt.hlines(min(exp_lr.loss), min(exp_lr.rates), max(exp_lr.rates))\n",
    "plt.axis([min(exp_lr.rates), max(exp_lr.rates), 0, exp_lr.loss[0]])\n",
    "plt.xlabel(\"Learning rate\")\n",
    "plt.ylabel(\"Loss\")"
   ]
  },
  {
   "cell_type": "code",
   "execution_count": 42,
   "metadata": {},
   "outputs": [],
   "source": [
    "tf.keras.backend.clear_session()"
   ]
  },
  {
   "cell_type": "code",
   "execution_count": 44,
   "metadata": {},
   "outputs": [],
   "source": [
    "# Restarting above with learning_rate = 1e-3\n",
    "model = tf.keras.models.Sequential([\n",
    "    tf.keras.layers.Flatten(input_shape=(28, 28)),\n",
    "    tf.keras.layers.Dense(300, activation=\"relu\"),\n",
    "    tf.keras.layers.Dense(100, activation=\"relu\"),\n",
    "    tf.keras.layers.Dense(10, activation=\"softmax\")\n",
    "])\n",
    "\n",
    "model.compile(loss='sparse_categorical_crossentropy',\n",
    "             optimizer=tf.keras.optimizers.Adam(learning_rate=1e-3),\n",
    "             metrics=['accuracy'])"
   ]
  },
  {
   "cell_type": "code",
   "execution_count": 49,
   "metadata": {},
   "outputs": [
    {
     "name": "stdout",
     "output_type": "stream",
     "text": [
      "Train on 60000 samples, validate on 10000 samples\n",
      "Epoch 1/50\n",
      "60000/60000 [==============================] - 5s 88us/sample - loss: 0.0438 - accuracy: 0.9863 - val_loss: 14.5048 - val_accuracy: 0.9755\n",
      "Epoch 2/50\n",
      "60000/60000 [==============================] - 5s 83us/sample - loss: 0.0333 - accuracy: 0.9896 - val_loss: 18.2511 - val_accuracy: 0.9741\n",
      "Epoch 3/50\n",
      "60000/60000 [==============================] - 5s 84us/sample - loss: 0.0258 - accuracy: 0.9914 - val_loss: 16.5132 - val_accuracy: 0.9796\n",
      "Epoch 4/50\n",
      "60000/60000 [==============================] - 5s 84us/sample - loss: 0.0246 - accuracy: 0.9923 - val_loss: 14.4569 - val_accuracy: 0.9818\n",
      "Epoch 5/50\n",
      "60000/60000 [==============================] - 5s 82us/sample - loss: 0.0213 - accuracy: 0.9931 - val_loss: 21.3655 - val_accuracy: 0.9759\n",
      "Epoch 6/50\n",
      "60000/60000 [==============================] - 5s 85us/sample - loss: 0.0166 - accuracy: 0.9942 - val_loss: 19.3092 - val_accuracy: 0.9787\n",
      "Epoch 7/50\n",
      "60000/60000 [==============================] - 5s 83us/sample - loss: 0.0158 - accuracy: 0.9947 - val_loss: 18.2450 - val_accuracy: 0.9814\n",
      "Epoch 8/50\n",
      "60000/60000 [==============================] - 5s 83us/sample - loss: 0.0144 - accuracy: 0.9952 - val_loss: 24.0865 - val_accuracy: 0.9778\n",
      "Epoch 9/50\n",
      "60000/60000 [==============================] - 5s 83us/sample - loss: 0.0134 - accuracy: 0.9956 - val_loss: 30.0258 - val_accuracy: 0.9730\n",
      "Epoch 10/50\n",
      "60000/60000 [==============================] - 5s 83us/sample - loss: 0.0121 - accuracy: 0.9963 - val_loss: 23.2098 - val_accuracy: 0.9808\n",
      "Epoch 11/50\n",
      "60000/60000 [==============================] - 5s 85us/sample - loss: 0.0140 - accuracy: 0.9957 - val_loss: 25.2801 - val_accuracy: 0.9786\n",
      "Epoch 12/50\n",
      "60000/60000 [==============================] - 5s 83us/sample - loss: 0.0125 - accuracy: 0.9960 - val_loss: 23.2516 - val_accuracy: 0.9830\n",
      "Epoch 13/50\n",
      "60000/60000 [==============================] - 5s 82us/sample - loss: 0.0098 - accuracy: 0.9973 - val_loss: 22.9204 - val_accuracy: 0.9808\n",
      "Epoch 14/50\n",
      "60000/60000 [==============================] - 5s 84us/sample - loss: 0.0094 - accuracy: 0.9970 - val_loss: 35.7182 - val_accuracy: 0.9733\n"
     ]
    }
   ],
   "source": [
    "history = model.fit(x_train / 255., y_train,\n",
    "                    epochs=50,\n",
    "                   batch_size=32,\n",
    "                    validation_data = (x_test, y_test),\n",
    "                   callbacks=[tf.keras.callbacks.EarlyStopping(patience=10), \n",
    "                              tf.keras.callbacks.ModelCheckpoint(\"my_mnist_model.h5\", save_best_only=True),\n",
    "                             tf.keras.callbacks.TensorBoard()])"
   ]
  },
  {
   "cell_type": "code",
   "execution_count": 52,
   "metadata": {},
   "outputs": [
    {
     "name": "stdout",
     "output_type": "stream",
     "text": [
      "10000/1 - 1s - loss: 7.2285 - accuracy: 0.9818\n"
     ]
    },
    {
     "data": {
      "text/plain": [
       "[14.456922794724562, 0.9818]"
      ]
     },
     "execution_count": 52,
     "metadata": {},
     "output_type": "execute_result"
    }
   ],
   "source": [
    "model = tf.keras.models.load_model(\"my_mnist_model.h5\")\n",
    "model.evaluate(x_test, y_test, verbose=2)"
   ]
  }
 ],
 "metadata": {
  "kernelspec": {
   "display_name": "Python 3",
   "language": "python",
   "name": "python3"
  },
  "language_info": {
   "codemirror_mode": {
    "name": "ipython",
    "version": 3
   },
   "file_extension": ".py",
   "mimetype": "text/x-python",
   "name": "python",
   "nbconvert_exporter": "python",
   "pygments_lexer": "ipython3",
   "version": "3.6.8"
  }
 },
 "nbformat": 4,
 "nbformat_minor": 4
}
